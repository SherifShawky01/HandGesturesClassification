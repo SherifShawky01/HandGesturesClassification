{
 "cells": [
  {
   "cell_type": "markdown",
   "metadata": {},
   "source": [
    "Hand Gesture Recognition with Machine Learning and MediaPipe\n",
    "This notebook implements a hand gesture recognition system using machine learning models and real-time hand tracking with MediaPipe."
   ]
  },
  {
   "cell_type": "markdown",
   "metadata": {},
   "source": [
    "# Import Necessary Libraries"
   ]
  },
  {
   "cell_type": "code",
   "execution_count": null,
   "metadata": {},
   "outputs": [],
   "source": [
    "import cv2\n",
    "import mediapipe as mp\n",
    "import pandas as pd\n",
    "import numpy as np\n",
    "import joblib\n",
    "from sklearn.preprocessing import MinMaxScaler, LabelEncoder\n",
    "from sklearn.model_selection import train_test_split, GridSearchCV\n",
    "from sklearn.svm import SVC\n",
    "from sklearn.ensemble import RandomForestClassifier\n",
    "from xgboost import XGBClassifier\n",
    "from sklearn.metrics import accuracy_score, f1_score, recall_score, precision_score"
   ]
  },
  {
   "cell_type": "markdown",
   "metadata": {},
   "source": [
    "# Load and Preprocess the Dataset"
   ]
  },
  {
   "cell_type": "code",
   "execution_count": null,
   "metadata": {},
   "outputs": [],
   "source": [
    "df = pd.read_csv('hand_landmarks_data2 .csv')\n",
    "X = df.drop(columns=['label'])  \n",
    "X_noZ = X[[col for col in X.columns if not col.startswith('z')]]\n",
    "X_zs = X.drop(columns=X_noZ.columns)\n",
    "scaler = MinMaxScaler()\n",
    "X_noZ_scaled = pd.DataFrame(scaler.fit_transform(X_noZ), columns=X_noZ.columns)\n",
    "X = X_noZ_scaled.copy()\n",
    "label_encoder = LabelEncoder()\n",
    "df['label'] = label_encoder.fit_transform(df['label'])\n",
    "y = df['label']\n",
    "X_train, X_test, y_train, y_test = train_test_split(X, y, test_size=0.1, random_state=42, stratify=y)"
   ]
  },
  {
   "cell_type": "markdown",
   "metadata": {},
   "source": [
    "# Define and Train Models Using GridSearchCV"
   ]
  },
  {
   "cell_type": "code",
   "execution_count": null,
   "metadata": {},
   "outputs": [],
   "source": [
    "models = {\n",
    "    'SVM': (SVC(), {\n",
    "        'C': [0.01,0.1, 1, 10], \n",
    "        'kernel': ['linear', 'rbf', 'poly', 'sigmoid'],\n",
    "        'degree': [2, 3, 4, 5], \n",
    "        'gamma': ['scale', 'auto'], \n",
    "        'class_weight': [None]\n",
    "    }),\n",
    "    'RandomForest': (RandomForestClassifier(), {\n",
    "        'n_estimators': [50, 100, 200], \n",
    "        'max_depth': [None, 10, 20], \n",
    "        'min_samples_split': [2, 5, 10], \n",
    "        'min_samples_leaf': [1, 2, 4]\n",
    "    }),\n",
    "    'XGBoost': (XGBClassifier(use_label_encoder=False, eval_metric='mlogloss'), {\n",
    "        'n_estimators': [50, 100, 200], \n",
    "        'learning_rate': [0.01, 0.1, 0.2], \n",
    "        'max_depth': [3, 5, 10],\n",
    "        'subsample': [0.5, 0.7, 1.0],\n",
    "        'colsample_bytree': [0.5, 0.7, 1.0]\n",
    "    })\n",
    "}"
   ]
  },
  {
   "cell_type": "markdown",
   "metadata": {},
   "source": [
    "# Perform Grid Search and Evaluate Models"
   ]
  },
  {
   "cell_type": "code",
   "execution_count": null,
   "metadata": {},
   "outputs": [],
   "source": [
    "best_models = {}\n",
    "for model_name, (model, param_grid) in models.items():\n",
    "    grid_search = GridSearchCV(model, param_grid, cv=3, scoring='accuracy', n_jobs=-1, verbose=3)\n",
    "    grid_search.fit(X_train, y_train)\n",
    "    best_models[model_name] = grid_search.best_estimator_\n",
    "    pd.DataFrame(grid_search.cv_results_).to_csv(f'{model_name}_gridsearch_results.csv', index=False)\n",
    "    y_pred = best_models[model_name].predict(X_test)\n",
    "    acc = accuracy_score(y_test, y_pred)\n",
    "    f1 = f1_score(y_test, y_pred, average='weighted')\n",
    "    precision = precision_score(y_test, y_pred, average='weighted')\n",
    "    recall = recall_score(y_test, y_pred, average='weighted')\n",
    "    print(f\"{model_name} Best Params: {grid_search.best_params_}\")\n",
    "    print(f\"{model_name} - Accuracy: {acc:.4f}, F1-score: {f1:.4f}, Precision: {precision:.4f}, Recall: {recall:.4f}\")"
   ]
  },
  {
   "cell_type": "markdown",
   "metadata": {},
   "source": [
    "# Save the Best Model"
   ]
  },
  {
   "cell_type": "code",
   "execution_count": null,
   "metadata": {},
   "outputs": [],
   "source": [
    "best_model_name = max(best_models, key=lambda k: accuracy_score(y_test, best_models[k].predict(X_test)))\n",
    "best_model = best_models[best_model_name]\n",
    "joblib.dump(best_model, 'best_hand_gesture_modelLASTT.pkl')\n",
    "joblib.dump(label_encoder, 'label_encoder.pkl')\n",
    "print(f\"Best model saved: {best_model_name}\")"
   ]
  },
  {
   "cell_type": "markdown",
   "metadata": {},
   "source": [
    "# Load Best Model"
   ]
  },
  {
   "cell_type": "code",
   "execution_count": null,
   "metadata": {},
   "outputs": [],
   "source": [
    "best_model = joblib.load('best_hand_gesture_modelLASTT.pkl')\n",
    "label_encoder = joblib.load('label_encoder.pkl')"
   ]
  },
  {
   "cell_type": "markdown",
   "metadata": {},
   "source": [
    "# Initialize MediaPipe and Webcam"
   ]
  },
  {
   "cell_type": "code",
   "execution_count": null,
   "metadata": {},
   "outputs": [],
   "source": [
    "mp_hands = mp.solutions.hands\n",
    "mp_drawing = mp.solutions.drawing_utils\n",
    "cap = cv2.VideoCapture(0)\n",
    "with mp_hands.Hands(min_detection_confidence=0.5, min_tracking_confidence=0.5) as hands:\n",
    "    while cap.isOpened():\n",
    "        ret, frame = cap.read()\n",
    "        if not ret:\n",
    "            break\n",
    "        image = cv2.cvtColor(frame, cv2.COLOR_BGR2RGB)\n",
    "        image.flags.writeable = False\n",
    "        results = hands.process(image)\n",
    "        image.flags.writeable = True\n",
    "        image = cv2.cvtColor(image, cv2.COLOR_RGB2BGR)\n",
    "        predicted_label = \"No Hand Detected\"\n",
    "        if results.multi_hand_landmarks:\n",
    "            landmarks_xy = []\n",
    "            for landmark in results.multi_hand_landmarks[0].landmark:\n",
    "                landmarks_xy.extend([landmark.x, landmark.y])\n",
    "            input_features = np.array(landmarks_xy).reshape(1, -1)\n",
    "            y_preds = best_model.predict(input_features)\n",
    "            predicted_label = label_encoder.inverse_transform(y_preds)[0]\n",
    "            for hand_landmarks in results.multi_hand_landmarks:\n",
    "                mp_drawing.draw_landmarks(image, hand_landmarks, mp_hands.HAND_CONNECTIONS)\n",
    "        cv2.putText(image, predicted_label, (10, 50), cv2.FONT_HERSHEY_SIMPLEX, 1, (0, 255, 0), 2, cv2.LINE_AA)\n",
    "        cv2.imshow('Hand Gesture Detection', image)\n",
    "        if cv2.waitKey(1) & 0xFF == ord('q'):\n",
    "            break\n",
    "cap.release()\n",
    "cv2.destroyAllWindows()"
   ]
  }
 ],
 "metadata": {
  "kernelspec": {
   "display_name": "Python 3",
   "language": "python",
   "name": "python3"
  },
  "language_info": {
   "codemirror_mode": {
    "name": "ipython",
    "version": 3
   },
   "file_extension": ".py",
   "mimetype": "text/x-python",
   "name": "python",
   "nbconvert_exporter": "python",
   "pygments_lexer": "ipython3",
   "version": "3.12.7"
  }
 },
 "nbformat": 4,
 "nbformat_minor": 2
}
